{
 "cells": [
  {
   "cell_type": "code",
   "execution_count": 1,
   "metadata": {},
   "outputs": [],
   "source": [
    "from datascience import *\n",
    "import numpy as np\n",
    "from math import *\n",
    "from scipy import stats\n",
    "import matplotlib.pyplot as plt\n",
    "%matplotlib inline"
   ]
  },
  {
   "cell_type": "markdown",
   "metadata": {},
   "source": [
    "## Lesson 30: Properties of Estimators"
   ]
  },
  {
   "cell_type": "markdown",
   "metadata": {},
   "source": [
    "Now that we have seen two different ways to obtain parameter estimates, we will now look into ways to evaluate estimators. What makes an estimator a good estimator? We have briefly discussed bias, but we'll also discuss consistency. "
   ]
  },
  {
   "cell_type": "markdown",
   "metadata": {},
   "source": [
    "### Bias\n",
    "\n",
    "(Review from Lesson 28). If we use an iid random sample to obtain an estimate of some parameter $\\theta$, this estimate ($\\hat{\\theta}$) is a random variable. Each time I collect a new sample, I will get a different $\\hat{\\theta}$. Ideally, the distribution of this $\\hat{\\theta}$ should have an average (expected value) of $\\theta$. \n",
    "\n",
    "If $E(\\hat{\\theta})=\\theta$, then $\\hat{\\theta}$ is said to be unbiased. "
   ]
  },
  {
   "cell_type": "markdown",
   "metadata": {},
   "source": [
    "### Example 1: Uniform Distribution\n",
    "\n",
    "Suppose $X_1,X_2,...,X_n$ is an iid sequence of random variables from the continuous uniform distribution on the domain $0 \\leq X \\leq b$ with unknown parameter $b$. From lessons 28, we found that the method of moments estimate of $b$ is $2\\bar{X}$. \n",
    "\n",
    "Is this estimate biased? Particularly, find $E(2\\bar{X})$. \n"
   ]
  },
  {
   "cell_type": "markdown",
   "metadata": {},
   "source": [
    "Here, we perform some fairly basic algebra to find $E(2 \\bar X)$ using properties of the moment estimate,\n",
    "\n",
    "$E(2 \\bar X) = 2E(\\bar X) = 2E(\\frac{\\sum_{i=1}^n X_i}{n})$\n",
    "\n",
    "Note that from Lesson 28, we found that ${\\bar X} = \\frac{b}{2}$. For the given summation, this gives us\n",
    "\n",
    "$2E(\\frac{\\sum_{i=1}^n X_i}{n}) = \\frac{2}{n}E({\\sum_{i=1}^n X_i}) = \\frac{2}{n}*\\frac{nb}{2} = b$\n",
    "\n",
    "Therefore, the estimate is unbiased."
   ]
  },
  {
   "cell_type": "markdown",
   "metadata": {},
   "source": [
    "### Example 2: Exponential Distribution\n",
    "\n",
    "Suppose $X_1,X_2,...,X_n$ is an iid sequence of random variables from the exponential distribution with unknown parameter $\\lambda$. From lessons 28 and 29, we found that the method of moments and maximum likelihood estimates are both $\\frac{1}{\\bar{X}}$. \n",
    "\n",
    "Is this estimate biased? For this exercise, assume $\\lambda=5$ and the size of each sample is 20. You will probably find it easier to do this via simulation (use `scipy` to generate a random sample from the exponential distribution with your choice of $\\lambda$. Use this sample to obtain the estimate. Repeat this process many times to get a distribution $\\hat{\\lambda}$.) "
   ]
  },
  {
   "cell_type": "code",
   "execution_count": 4,
   "metadata": {},
   "outputs": [
    {
     "data": {
      "text/plain": [
       "5.253898129647515"
      ]
     },
     "execution_count": 4,
     "metadata": {},
     "output_type": "execute_result"
    }
   ],
   "source": [
    "lam_parameters = []\n",
    "\n",
    "for i in np.arange(10 ** 4):\n",
    "    new_lam = 1/np.mean(stats.expon.rvs(scale = 1/5, size = 20))\n",
    "    lam_parameters = np.append(lam_parameters,new_lam)\n",
    "    \n",
    "lam = np.mean(lam_parameters)\n",
    "lam # estimated value"
   ]
  },
  {
   "cell_type": "markdown",
   "metadata": {},
   "source": [
    "The simulated value for parameter $\\lambda$ is slightly higher than the expected value of 5. Therefore, the estimate is likely biased."
   ]
  },
  {
   "cell_type": "markdown",
   "metadata": {},
   "source": [
    "## Consistency\n",
    "\n",
    "An estimator is considered consistent if for any $\\epsilon >0$, \n",
    "\n",
    "$$\n",
    "\\underset{n \\to \\infty}{\\lim} P(|\\hat{\\theta}_n -\\theta|<\\epsilon)=1\n",
    "$$\n",
    "\n",
    "This is just a fancy way of saying that as $n$ increases, the estimator tends to get closer to $\\theta$. "
   ]
  },
  {
   "cell_type": "markdown",
   "metadata": {},
   "source": [
    "### Lemma\n",
    "\n",
    "An estimator is consistent if it is unbiased and if $\\underset{n \\to \\infty}{\\lim} Var(\\hat{\\theta}_n)=0$. In other words, an unbiased estimator is consistent if its variance goes to zero as sample size goes to infinity. "
   ]
  },
  {
   "cell_type": "markdown",
   "metadata": {},
   "source": [
    "### Example 3: Uniform Distribution\n",
    "\n",
    "In Example 1, we showed that the method of moments estimator for $b$ is unbiased. Is it also consistent? What is the variance of this estimator? What happens to this variance as $n$ increases? "
   ]
  },
  {
   "cell_type": "markdown",
   "metadata": {},
   "source": [
    "From Lesson 13, we have that the variance of $\\hat b$ for a uniform distribution is \n",
    "\n",
    "$Var(\\hat {b}_n) = \\frac{\\hat b^2}{12}$\n",
    "\n",
    "Thus,\n",
    "\n",
    "$Var(\\hat {b}_n) = \\frac{(2 \\bar X)^2}{12} = \\frac{4 {\\bar X}^2}{12} = \\frac{4(\\frac{\\sum_{i=1}^n X_i}{n})^2}{12}$\n",
    "\n",
    "We take the limit of this expression as n approaches infinity and set this equal to zero to verify consistency. \n",
    "\n",
    "$\\underset{n \\to \\infty}{\\lim} \\frac{4(\\frac{\\sum_{i=1}^n X_i}{n})^2}{12} =\\frac{4(0)^2}{12} = 0$\n",
    "\n",
    "To view the behavior of the variance as $n$ increases, we can simulate numerically."
   ]
  },
  {
   "cell_type": "code",
   "execution_count": 5,
   "metadata": {},
   "outputs": [
    {
     "data": {
      "image/png": "[encoded data removed]",
      "text/plain": [
       "<Figure size 432x288 with 1 Axes>"
      ]
     },
     "metadata": {},
     "output_type": "display_data"
    }
   ],
   "source": [
    "# Simulate the variance of 2X_bar for increasing n\n",
    "# Here, I will show a plot of the results instead of a final value\n",
    "var_estimates = []\n",
    "\n",
    "for i in np.arange(20,10**3,10):\n",
    "    x_bars = []\n",
    "    for j in np.arange(10**3):\n",
    "        x_bars.append(2*np.mean(stats.uniform.rvs(size = i)))\n",
    "    var_estimates.append(np.var(x_bars))\n",
    "\n",
    "plt.plot(np.arange(20,10**3,10),var_estimates)\n",
    "plt.show()"
   ]
  },
  {
   "cell_type": "markdown",
   "metadata": {},
   "source": [
    "As seen above, the variance approaches zero as $n$ increases, verifying our analytical result."
   ]
  },
  {
   "cell_type": "markdown",
   "metadata": {},
   "source": [
    "### Example 4: Normal Distribution\n",
    "\n",
    "Suppose $X_1,X_2,...,X_n$ is an iid sequence of random variables from the normal distribution with unknown mean and standard deviation. The method of moments (and maximum likelihood) estimator of $\\mu$ is simply $\\bar{X}$. We have already established that this estimate is unbiased. Is it consistent? "
   ]
  },
  {
   "cell_type": "markdown",
   "metadata": {},
   "source": [
    "From Lesson 13, we have that the variance of $\\hat \\mu$ for a normal distribution with a pmf of 1 is\n",
    "\n",
    "$Var(\\hat {\\mu}_n) = {\\sum_x (\\hat \\mu - \\mu)^2} = {\\sum_x (\\bar X - \\mu)^2} = {\\sum_x (\\frac{\\sum x_i}{n} - {\\sum x_i})^2} = {\\sum_x (\\frac{n \\sum x_i - \\sum x_i}{n^2})^2}$\n",
    "\n",
    "Taking the limit of this expression as $n$ approaches infinity, $n^2$ clearly grows faster than $n$, and the result is $0$. Thus, the estimate is consistent. Below is a visual of a simulation to show trends as $n$ increases."
   ]
  },
  {
   "cell_type": "code",
   "execution_count": 6,
   "metadata": {},
   "outputs": [
    {
     "data": {
      "image/png": "[encoded data removed]",
      "text/plain": [
       "<Figure size 432x288 with 1 Axes>"
      ]
     },
     "metadata": {},
     "output_type": "display_data"
    }
   ],
   "source": [
    "# Same methodology, just for different parameter estimate\n",
    "\n",
    "var_estimates = []\n",
    "\n",
    "for i in np.arange(20,10**3,10):\n",
    "    x_bars = []\n",
    "    for j in np.arange(10**3):\n",
    "        x_bars.append(np.mean(stats.norm.rvs(size = i))) # modification\n",
    "    var_estimates.append(np.var(x_bars))\n",
    "\n",
    "plt.plot(np.arange(20,10**3,10),var_estimates)\n",
    "plt.show()"
   ]
  },
  {
   "cell_type": "markdown",
   "metadata": {},
   "source": [
    "Again, the variance approaches zero as $n$ increases."
   ]
  },
  {
   "cell_type": "markdown",
   "metadata": {},
   "source": [
    "## Weak Law of Large Numbers\n",
    "\n",
    "It turns out that for all distributions, the sample mean is a consistent estimator for the population mean. This is known as the Weak Law of Large Numbers. "
   ]
  },
  {
   "cell_type": "code",
   "execution_count": 20,
   "metadata": {},
   "outputs": [
    {
     "data": {
      "image/png": "[encoded data removed]",
      "text/plain": [
       "<matplotlib.figure.Figure at 0x187a6b9f908>"
      ]
     },
     "metadata": {},
     "output_type": "display_data"
    }
   ],
   "source": [
    "ns=np.arange(1,10001)\n",
    "samp=stats.norm.rvs(5,6,size=10000)\n",
    "sampmeans=np.cumsum(samp)/ns\n",
    "plt.plot(ns,sampmeans)\n",
    "plt.show()"
   ]
  },
  {
   "cell_type": "markdown",
   "metadata": {},
   "source": [
    "Documentation: C2C Williams showed me how to numerically simulate answers for Examples 3 and 4."
   ]
  }
 ],
 "metadata": {
  "kernelspec": {
   "display_name": "Python 3",
   "language": "python",
   "name": "python3"
  },
  "language_info": {
   "codemirror_mode": {
    "name": "ipython",
    "version": 3
   },
   "file_extension": ".py",
   "mimetype": "text/x-python",
   "name": "python",
   "nbconvert_exporter": "python",
   "pygments_lexer": "ipython3",
   "version": "3.6.5"
  }
 },
 "nbformat": 4,
 "nbformat_minor": 2
}
