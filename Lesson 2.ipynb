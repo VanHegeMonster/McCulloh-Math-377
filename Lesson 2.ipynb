{
 "cells": [
  {
   "cell_type": "markdown",
   "metadata": {},
   "source": [
    "## Lesson 2: Gordon McCulloh, 14 August 2018"
   ]
  },
  {
   "cell_type": "markdown",
   "metadata": {},
   "source": [
    "Q1: Define Data Science. How do you think you will use Data Science in your career (either as a student or in the Air Force)?"
   ]
  },
  {
   "cell_type": "markdown",
   "metadata": {},
   "source": [
    "Data Science refers to the study of large data sets and the computational tools required to analyze them effectively. In my future career, data science will appear in various engineering test methods, industrial processes, and in dealings with the private sector. Using the rigorous techniques of data science, I will be able to make solid and verifiable claims in my research and development."
   ]
  },
  {
   "cell_type": "markdown",
   "metadata": {},
   "source": [
    "Q2: What are the three focus areas in this course?"
   ]
  },
  {
   "cell_type": "markdown",
   "metadata": {},
   "source": [
    "1. Exploration, 2. Predication, & 3. Inference"
   ]
  },
  {
   "cell_type": "markdown",
   "metadata": {},
   "source": [
    "Q3: Install the datascience package (no Jupyter notebook input required)."
   ]
  },
  {
   "cell_type": "markdown",
   "metadata": {},
   "source": [
    "Q4: Do at least 3 basic calculations in three separate boxes."
   ]
  },
  {
   "cell_type": "code",
   "execution_count": 3,
   "metadata": {},
   "outputs": [
    {
     "data": {
      "text/plain": [
       "4"
      ]
     },
     "execution_count": 3,
     "metadata": {},
     "output_type": "execute_result"
    }
   ],
   "source": [
    "2+2"
   ]
  },
  {
   "cell_type": "code",
   "execution_count": 6,
   "metadata": {},
   "outputs": [
    {
     "data": {
      "text/plain": [
       "25"
      ]
     },
     "execution_count": 6,
     "metadata": {},
     "output_type": "execute_result"
    }
   ],
   "source": [
    "5*5"
   ]
  },
  {
   "cell_type": "code",
   "execution_count": 7,
   "metadata": {},
   "outputs": [
    {
     "data": {
      "text/plain": [
       "10.0"
      ]
     },
     "execution_count": 7,
     "metadata": {},
     "output_type": "execute_result"
    }
   ],
   "source": [
    "100/10"
   ]
  },
  {
   "cell_type": "markdown",
   "metadata": {},
   "source": [
    "Q5: In another box, use python code to print your name followed by a \"thumbs up\" sign (you may need to do an internet search for Unicode thumbs up character)."
   ]
  },
  {
   "cell_type": "code",
   "execution_count": 8,
   "metadata": {},
   "outputs": [],
   "source": [
    "import emoji"
   ]
  },
  {
   "cell_type": "code",
   "execution_count": 10,
   "metadata": {},
   "outputs": [
    {
     "name": "stdout",
     "output_type": "stream",
     "text": [
      "Gordon McCulloh 👍\n"
     ]
    }
   ],
   "source": [
    "print(emoji.emojize('Gordon McCulloh :thumbs_up:'))"
   ]
  },
  {
   "cell_type": "markdown",
   "metadata": {},
   "source": [
    "Q6: I read once that violent crime is significantly associated with ice cream sales. That is, as ice cream sales increase, so does violent crime. Do high ice cream sales cause an increase in violent crime? Explain this relationship."
   ]
  },
  {
   "cell_type": "markdown",
   "metadata": {},
   "source": [
    "While two data sets may show an associative relationship with one another, this does not imply causality. In any statistical study, the presence of lurking variables and added considerations must be taken into account. Both violent crime and ice cream sales increase during warmer months of the year, which suggests that an association may be linked to a secondary causation. In section 2.3 of the textbook, establishing causality requires us to limit confounding and other factors. For another good example, see the 1960's sutdy on coffee and lung cancer."
   ]
  },
  {
   "cell_type": "markdown",
   "metadata": {},
   "source": [
    "Q7: What is the difference between and observational study and an experiment?"
   ]
  },
  {
   "cell_type": "markdown",
   "metadata": {},
   "source": [
    "An observational study denotes a hands-off approach to looking at specific data sets and trying to draw associative conclusions from them. An experiment, on the other hand, employs specific strategies to limit lurking variables, confounding, and false causality. Experiments will use randomization and pre-planned techniques to provide concrete statistical outcomes."
   ]
  },
  {
   "cell_type": "markdown",
   "metadata": {},
   "source": [
    "Documentation: C2C John Wirth pointed me in the direction of (https://github.com/carpedm20/emoji) for accomplishing problem 5."
   ]
  },
  {
   "cell_type": "code",
   "execution_count": null,
   "metadata": {},
   "outputs": [],
   "source": []
  }
 ],
 "metadata": {
  "kernelspec": {
   "display_name": "Python 3",
   "language": "python",
   "name": "python3"
  },
  "language_info": {
   "codemirror_mode": {
    "name": "ipython",
    "version": 3
   },
   "file_extension": ".py",
   "mimetype": "text/x-python",
   "name": "python",
   "nbconvert_exporter": "python",
   "pygments_lexer": "ipython3",
   "version": "3.6.5"
  }
 },
 "nbformat": 4,
 "nbformat_minor": 2
}
