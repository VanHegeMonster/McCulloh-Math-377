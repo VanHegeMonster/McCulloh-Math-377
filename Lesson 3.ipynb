{
 "cells": [
  {
   "cell_type": "markdown",
   "metadata": {},
   "source": [
    "## Lesson 3\n",
    "\n",
    "C2C Gordon McCulloh, 16 August 2018"
   ]
  },
  {
   "cell_type": "code",
   "execution_count": 10,
   "metadata": {},
   "outputs": [],
   "source": [
    "import numpy as np\n",
    "from datascience import *\n",
    "# percent sign is a magic command\n",
    "% matplotlib inline\n",
    "import matplotlib.pyplot as plots # This is the plots package\n",
    "plots.style.use('fivethirtyeight') # This is a plot style - blog 538\n",
    "import warnings\n",
    "warnings.simplefilter(action=\"ignore\", category=FutureWarning)\n",
    "from datascience.predicates import are"
   ]
  },
  {
   "cell_type": "markdown",
   "metadata": {},
   "source": [
    "Q2: Use basic Python operators to find the number of seconds in the month of June. Find the number of seconds that have lapsed between 1 June at noon and 14 Aug, 9:30 AM"
   ]
  },
  {
   "cell_type": "code",
   "execution_count": 11,
   "metadata": {},
   "outputs": [
    {
     "data": {
      "text/plain": [
       "2592000"
      ]
     },
     "execution_count": 11,
     "metadata": {},
     "output_type": "execute_result"
    }
   ],
   "source": [
    "June_seconds = 30*24*60*60\n",
    "June_seconds"
   ]
  },
  {
   "cell_type": "code",
   "execution_count": 12,
   "metadata": {},
   "outputs": [
    {
     "data": {
      "text/plain": [
       "6384600.0"
      ]
     },
     "execution_count": 12,
     "metadata": {},
     "output_type": "execute_result"
    }
   ],
   "source": [
    "Elapse = June_seconds-12*60*60+(31+13)*24*60*60+9.5*60*60\n",
    "Elapse"
   ]
  },
  {
   "cell_type": "markdown",
   "metadata": {},
   "source": [
    "Q3: Import a table ('world_population.csv') and find:\n",
    "a. The population in 2015 (the dataset begins at 1950)\n",
    "b. The population growth between 1950 and 2015\n",
    "c. The average annual growth rate over the course of the dataset"
   ]
  },
  {
   "cell_type": "code",
   "execution_count": 13,
   "metadata": {},
   "outputs": [],
   "source": [
    "World_Pop = Table.read_table('world_population.csv')"
   ]
  },
  {
   "cell_type": "code",
   "execution_count": 14,
   "metadata": {},
   "outputs": [],
   "source": [
    "World_Pop = World_Pop.with_columns(\"Year\",np.arange(1950,2016))"
   ]
  },
  {
   "cell_type": "code",
   "execution_count": 15,
   "metadata": {},
   "outputs": [
    {
     "name": "stdout",
     "output_type": "stream",
     "text": [
      "The world population in 2015 is 7256490011\n"
     ]
    }
   ],
   "source": [
    "print(\"The world population in 2015 is\",int(World_Pop.where(\"Year\",2015).column(\"Population\")))"
   ]
  },
  {
   "cell_type": "code",
   "execution_count": 16,
   "metadata": {},
   "outputs": [
    {
     "name": "stdout",
     "output_type": "stream",
     "text": [
      "The population growth between 1950 and 2015 is 4698861357\n"
     ]
    }
   ],
   "source": [
    "Pop50 = int(World_Pop.where(\"Year\",1950).column(\"Population\"))\n",
    "Pop15 = int(World_Pop.where(\"Year\",2015).column(\"Population\"))\n",
    "print(\"The population growth between 1950 and 2015 is\",Pop15-Pop50)"
   ]
  },
  {
   "cell_type": "markdown",
   "metadata": {},
   "source": [
    "To find the average annual growth rate over the course of the dataset, I will use the equation from Chapter 3 of the Data8 Textbook."
   ]
  },
  {
   "cell_type": "code",
   "execution_count": 17,
   "metadata": {},
   "outputs": [
    {
     "name": "stdout",
     "output_type": "stream",
     "text": [
      "Avg. annual growth rate over the course of the dataset: 1.5925721968250928 %\n"
     ]
    }
   ],
   "source": [
    "t = len(World_Pop.column(\"Population\"))\n",
    "Avg_Growth = (Pop15/Pop50)**(1/t)-1\n",
    "print(\"Avg. annual growth rate over the course of the dataset:\",Avg_Growth*100,\"%\")"
   ]
  },
  {
   "cell_type": "markdown",
   "metadata": {},
   "source": [
    "Q4: The 'Titanic' dataset describes passengers on the Titanic when it sank. a. Relabel the 'Pclass' column to 'passenger_class' b. Creat a new column 'family size' that adds the number of siblings/spouses, 'SibSp', to the number of children, 'Parch' c. Create a barplot of number of passengers, broken down by passenger class d. Sort the data by age and show the youngest 5 passengers e. Now sort by age fom oldest to youngest and show the oldest 5 passengers. What did you notice? Eliminate these \"nan\" values and try again f. Find the survival rate for passengers of the Titanic, broken down by passenger class g. Now that you have some familiarity with the dataset, create two of your own questions and answer them."
   ]
  },
  {
   "cell_type": "code",
   "execution_count": 18,
   "metadata": {},
   "outputs": [],
   "source": [
    "Titanic = Table.read_table('Titanic.csv')"
   ]
  },
  {
   "cell_type": "code",
   "execution_count": 19,
   "metadata": {},
   "outputs": [],
   "source": [
    "Titanic = Titanic.relabel(\"Pclass\",\"passenger_class\")\n",
    "Titanic = Titanic.with_columns(\"family size\",(Titanic.column(\"SibSp\")+Titanic.column(\"Parch\")))"
   ]
  },
  {
   "cell_type": "code",
   "execution_count": 20,
   "metadata": {},
   "outputs": [
    {
     "data": {
      "image/png": "[encoded data removed]",
      "text/plain": [
       "<Figure size 432x288 with 1 Axes>"
      ]
     },
     "metadata": {},
     "output_type": "display_data"
    }
   ],
   "source": [
    "Titanic_passengers = Titanic.group(\"passenger_class\")\n",
    "Titanic_passengers.barh(\"passenger_class\")"
   ]
  },
  {
   "cell_type": "code",
   "execution_count": 21,
   "metadata": {},
   "outputs": [
    {
     "data": {
      "text/html": [
       "<table border=\"1\" class=\"dataframe\">\n",
       "    <thead>\n",
       "        <tr>\n",
       "            <th>PassengerId</th> <th>Survived</th> <th>passenger_class</th> <th>Name</th> <th>Sex</th> <th>Age</th> <th>SibSp</th> <th>Parch</th> <th>Ticket</th> <th>Fare</th> <th>Cabin</th> <th>Embarked</th> <th>family size</th>\n",
       "        </tr>\n",
       "    </thead>\n",
       "    <tbody>\n",
       "        <tr>\n",
       "            <td>756        </td> <td>1       </td> <td>2              </td> <td>Hamalainen, Master. Viljo      </td> <td>male  </td> <td>0.67</td> <td>1    </td> <td>1    </td> <td>250649</td> <td>14.5   </td> <td>nan  </td> <td>S       </td> <td>2          </td>\n",
       "        </tr>\n",
       "        <tr>\n",
       "            <td>470        </td> <td>1       </td> <td>3              </td> <td>Baclini, Miss. Helene Barbara  </td> <td>female</td> <td>0.75</td> <td>2    </td> <td>1    </td> <td>2666  </td> <td>19.2583</td> <td>nan  </td> <td>C       </td> <td>3          </td>\n",
       "        </tr>\n",
       "        <tr>\n",
       "            <td>645        </td> <td>1       </td> <td>3              </td> <td>Baclini, Miss. Eugenie         </td> <td>female</td> <td>0.75</td> <td>2    </td> <td>1    </td> <td>2666  </td> <td>19.2583</td> <td>nan  </td> <td>C       </td> <td>3          </td>\n",
       "        </tr>\n",
       "        <tr>\n",
       "            <td>79         </td> <td>1       </td> <td>2              </td> <td>Caldwell, Master. Alden Gates  </td> <td>male  </td> <td>0.83</td> <td>0    </td> <td>2    </td> <td>248738</td> <td>29     </td> <td>nan  </td> <td>S       </td> <td>2          </td>\n",
       "        </tr>\n",
       "        <tr>\n",
       "            <td>832        </td> <td>1       </td> <td>2              </td> <td>Richards, Master. George Sibley</td> <td>male  </td> <td>0.83</td> <td>1    </td> <td>1    </td> <td>29106 </td> <td>18.75  </td> <td>nan  </td> <td>S       </td> <td>2          </td>\n",
       "        </tr>\n",
       "    </tbody>\n",
       "</table>"
      ],
      "text/plain": [
       "PassengerId | Survived | passenger_class | Name                            | Sex    | Age  | SibSp | Parch | Ticket | Fare    | Cabin | Embarked | family size\n",
       "756         | 1        | 2               | Hamalainen, Master. Viljo       | male   | 0.67 | 1     | 1     | 250649 | 14.5    | nan   | S        | 2\n",
       "470         | 1        | 3               | Baclini, Miss. Helene Barbara   | female | 0.75 | 2     | 1     | 2666   | 19.2583 | nan   | C        | 3\n",
       "645         | 1        | 3               | Baclini, Miss. Eugenie          | female | 0.75 | 2     | 1     | 2666   | 19.2583 | nan   | C        | 3\n",
       "79          | 1        | 2               | Caldwell, Master. Alden Gates   | male   | 0.83 | 0     | 2     | 248738 | 29      | nan   | S        | 2\n",
       "832         | 1        | 2               | Richards, Master. George Sibley | male   | 0.83 | 1     | 1     | 29106  | 18.75   | nan   | S        | 2"
      ]
     },
     "execution_count": 21,
     "metadata": {},
     "output_type": "execute_result"
    }
   ],
   "source": [
    "Titanic = Titanic.sort(\"Age\")\n",
    "Titanic.take(np.arange(1,6)) # arranges the youngest five passengers"
   ]
  },
  {
   "cell_type": "code",
   "execution_count": 29,
   "metadata": {},
   "outputs": [
    {
     "data": {
      "text/html": [
       "<table border=\"1\" class=\"dataframe\">\n",
       "    <thead>\n",
       "        <tr>\n",
       "            <th>PassengerId</th> <th>Survived</th> <th>passenger_class</th> <th>Name</th> <th>Sex</th> <th>Age</th> <th>SibSp</th> <th>Parch</th> <th>Ticket</th> <th>Fare</th> <th>Cabin</th> <th>Embarked</th> <th>family size</th>\n",
       "        </tr>\n",
       "    </thead>\n",
       "    <tbody>\n",
       "        <tr>\n",
       "            <td>889        </td> <td>0       </td> <td>3              </td> <td>Johnston, Miss. Catherine Helen \"Carrie\"    </td> <td>female</td> <td>nan </td> <td>1    </td> <td>2    </td> <td>W./C. 6607</td> <td>23.45  </td> <td>nan  </td> <td>S       </td> <td>3          </td>\n",
       "        </tr>\n",
       "        <tr>\n",
       "            <td>879        </td> <td>0       </td> <td>3              </td> <td>Laleff, Mr. Kristo                          </td> <td>male  </td> <td>nan </td> <td>0    </td> <td>0    </td> <td>349217    </td> <td>7.8958 </td> <td>nan  </td> <td>S       </td> <td>0          </td>\n",
       "        </tr>\n",
       "        <tr>\n",
       "            <td>869        </td> <td>0       </td> <td>3              </td> <td>van Melkebeke, Mr. Philemon                 </td> <td>male  </td> <td>nan </td> <td>0    </td> <td>0    </td> <td>345777    </td> <td>9.5    </td> <td>nan  </td> <td>S       </td> <td>0          </td>\n",
       "        </tr>\n",
       "        <tr>\n",
       "            <td>864        </td> <td>0       </td> <td>3              </td> <td>Sage, Miss. Dorothy Edith \"Dolly\"           </td> <td>female</td> <td>nan </td> <td>8    </td> <td>2    </td> <td>CA. 2343  </td> <td>69.55  </td> <td>nan  </td> <td>S       </td> <td>10         </td>\n",
       "        </tr>\n",
       "        <tr>\n",
       "            <td>860        </td> <td>0       </td> <td>3              </td> <td>Razi, Mr. Raihed                            </td> <td>male  </td> <td>nan </td> <td>0    </td> <td>0    </td> <td>2629      </td> <td>7.2292 </td> <td>nan  </td> <td>C       </td> <td>0          </td>\n",
       "        </tr>\n",
       "        <tr>\n",
       "            <td>850        </td> <td>1       </td> <td>1              </td> <td>Goldenberg, Mrs. Samuel L (Edwiga Grabowska)</td> <td>female</td> <td>nan </td> <td>1    </td> <td>0    </td> <td>17453     </td> <td>89.1042</td> <td>C92  </td> <td>C       </td> <td>1          </td>\n",
       "        </tr>\n",
       "    </tbody>\n",
       "</table>"
      ],
      "text/plain": [
       "PassengerId | Survived | passenger_class | Name                                         | Sex    | Age  | SibSp | Parch | Ticket     | Fare    | Cabin | Embarked | family size\n",
       "889         | 0        | 3               | Johnston, Miss. Catherine Helen \"Carrie\"     | female | nan  | 1     | 2     | W./C. 6607 | 23.45   | nan   | S        | 3\n",
       "879         | 0        | 3               | Laleff, Mr. Kristo                           | male   | nan  | 0     | 0     | 349217     | 7.8958  | nan   | S        | 0\n",
       "869         | 0        | 3               | van Melkebeke, Mr. Philemon                  | male   | nan  | 0     | 0     | 345777     | 9.5     | nan   | S        | 0\n",
       "864         | 0        | 3               | Sage, Miss. Dorothy Edith \"Dolly\"            | female | nan  | 8     | 2     | CA. 2343   | 69.55   | nan   | S        | 10\n",
       "860         | 0        | 3               | Razi, Mr. Raihed                             | male   | nan  | 0     | 0     | 2629       | 7.2292  | nan   | C        | 0\n",
       "850         | 1        | 1               | Goldenberg, Mrs. Samuel L (Edwiga Grabowska) | female | nan  | 1     | 0     | 17453      | 89.1042 | C92   | C        | 1"
      ]
     },
     "execution_count": 29,
     "metadata": {},
     "output_type": "execute_result"
    }
   ],
   "source": [
    "Titanic_proxy = Titanic.sort(\"Age\",descending=True)\n",
    "Titanic_proxy.take(range(6)) # showing nan values"
   ]
  },
  {
   "cell_type": "code",
   "execution_count": 30,
   "metadata": {},
   "outputs": [
    {
     "data": {
      "text/html": [
       "<table border=\"1\" class=\"dataframe\">\n",
       "    <thead>\n",
       "        <tr>\n",
       "            <th>PassengerId</th> <th>Survived</th> <th>passenger_class</th> <th>Name</th> <th>Sex</th> <th>Age</th> <th>SibSp</th> <th>Parch</th> <th>Ticket</th> <th>Fare</th> <th>Cabin</th> <th>Embarked</th> <th>family size</th>\n",
       "        </tr>\n",
       "    </thead>\n",
       "    <tbody>\n",
       "        <tr>\n",
       "            <td>631        </td> <td>1       </td> <td>1              </td> <td>Barkworth, Mr. Algernon Henry Wilson</td> <td>male</td> <td>80  </td> <td>0    </td> <td>0    </td> <td>27042    </td> <td>30     </td> <td>A23  </td> <td>S       </td> <td>0          </td>\n",
       "        </tr>\n",
       "        <tr>\n",
       "            <td>852        </td> <td>0       </td> <td>3              </td> <td>Svensson, Mr. Johan                 </td> <td>male</td> <td>74  </td> <td>0    </td> <td>0    </td> <td>347060   </td> <td>7.775  </td> <td>nan  </td> <td>S       </td> <td>0          </td>\n",
       "        </tr>\n",
       "        <tr>\n",
       "            <td>494        </td> <td>0       </td> <td>1              </td> <td>Artagaveytia, Mr. Ramon             </td> <td>male</td> <td>71  </td> <td>0    </td> <td>0    </td> <td>PC 17609 </td> <td>49.5042</td> <td>nan  </td> <td>C       </td> <td>0          </td>\n",
       "        </tr>\n",
       "        <tr>\n",
       "            <td>97         </td> <td>0       </td> <td>1              </td> <td>Goldschmidt, Mr. George B           </td> <td>male</td> <td>71  </td> <td>0    </td> <td>0    </td> <td>PC 17754 </td> <td>34.6542</td> <td>A5   </td> <td>C       </td> <td>0          </td>\n",
       "        </tr>\n",
       "        <tr>\n",
       "            <td>117        </td> <td>0       </td> <td>3              </td> <td>Connors, Mr. Patrick                </td> <td>male</td> <td>70.5</td> <td>0    </td> <td>0    </td> <td>370369   </td> <td>7.75   </td> <td>nan  </td> <td>Q       </td> <td>0          </td>\n",
       "        </tr>\n",
       "        <tr>\n",
       "            <td>746        </td> <td>0       </td> <td>1              </td> <td>Crosby, Capt. Edward Gifford        </td> <td>male</td> <td>70  </td> <td>1    </td> <td>1    </td> <td>WE/P 5735</td> <td>71     </td> <td>B22  </td> <td>S       </td> <td>2          </td>\n",
       "        </tr>\n",
       "    </tbody>\n",
       "</table>"
      ],
      "text/plain": [
       "PassengerId | Survived | passenger_class | Name                                 | Sex  | Age  | SibSp | Parch | Ticket    | Fare    | Cabin | Embarked | family size\n",
       "631         | 1        | 1               | Barkworth, Mr. Algernon Henry Wilson | male | 80   | 0     | 0     | 27042     | 30      | A23   | S        | 0\n",
       "852         | 0        | 3               | Svensson, Mr. Johan                  | male | 74   | 0     | 0     | 347060    | 7.775   | nan   | S        | 0\n",
       "494         | 0        | 1               | Artagaveytia, Mr. Ramon              | male | 71   | 0     | 0     | PC 17609  | 49.5042 | nan   | C        | 0\n",
       "97          | 0        | 1               | Goldschmidt, Mr. George B            | male | 71   | 0     | 0     | PC 17754  | 34.6542 | A5    | C        | 0\n",
       "117         | 0        | 3               | Connors, Mr. Patrick                 | male | 70.5 | 0     | 0     | 370369    | 7.75    | nan   | Q        | 0\n",
       "746         | 0        | 1               | Crosby, Capt. Edward Gifford         | male | 70   | 1     | 1     | WE/P 5735 | 71      | B22   | S        | 2"
      ]
     },
     "execution_count": 30,
     "metadata": {},
     "output_type": "execute_result"
    }
   ],
   "source": [
    "Titanic_proxy2 = Titanic_proxy.where(\"Age\",are.below(100)) # setting an upper limit to eliminate nan\n",
    "Titanic_proxy2.take(range(6)) # showing data values"
   ]
  },
  {
   "cell_type": "code",
   "execution_count": 25,
   "metadata": {},
   "outputs": [
    {
     "data": {
      "text/html": [
       "<table border=\"1\" class=\"dataframe\">\n",
       "    <thead>\n",
       "        <tr>\n",
       "            <th>passenger_class</th> <th>count</th> <th>Survival Rates</th>\n",
       "        </tr>\n",
       "    </thead>\n",
       "    <tbody>\n",
       "        <tr>\n",
       "            <td>1              </td> <td>216  </td> <td>0.62963       </td>\n",
       "        </tr>\n",
       "        <tr>\n",
       "            <td>2              </td> <td>184  </td> <td>0.472826      </td>\n",
       "        </tr>\n",
       "        <tr>\n",
       "            <td>3              </td> <td>491  </td> <td>0.242363      </td>\n",
       "        </tr>\n",
       "    </tbody>\n",
       "</table>"
      ],
      "text/plain": [
       "passenger_class | count | Survival Rates\n",
       "1               | 216   | 0.62963\n",
       "2               | 184   | 0.472826\n",
       "3               | 491   | 0.242363"
      ]
     },
     "execution_count": 25,
     "metadata": {},
     "output_type": "execute_result"
    }
   ],
   "source": [
    "Titanic_proxy3 = Titanic.select(\"passenger_class\",\"Survived\") # selects a row from the data table\n",
    "Titanic_proxy4 = Titanic_proxy3.groups([\"Survived\",\"passenger_class\"]) # groups multiple rows together\n",
    "# Now, I find the proportion of survivors within the 4th proxy table using the survived column as an arbitrary place-marker for the full table\n",
    "Survive_Data = Titanic_proxy4.where(\"Survived\",1).column(\"count\")/(Titanic_proxy4.where(\"Survived\",1).column(\"count\")+Titanic_proxy4.where(\"Survived\",0).column(\"count\"))\n",
    "# Finally, I create a last proxy table to group the necessary data for (f)\n",
    "Titanic_proxy5 = Titanic_proxy3.group(\"passenger_class\").with_column(\"Survival Rates\",Survive_Data)\n",
    "Titanic_proxy5"
   ]
  },
  {
   "cell_type": "code",
   "execution_count": 26,
   "metadata": {},
   "outputs": [
    {
     "name": "stdout",
     "output_type": "stream",
     "text": [
      "Question 1: What was the average fare of males compared to that of females?\n"
     ]
    },
    {
     "data": {
      "text/html": [
       "<table border=\"1\" class=\"dataframe\">\n",
       "    <thead>\n",
       "        <tr>\n",
       "            <th>Sex</th> <th>count</th> <th>Average Fare</th>\n",
       "        </tr>\n",
       "    </thead>\n",
       "    <tbody>\n",
       "        <tr>\n",
       "            <td>female</td> <td>314  </td> <td>46.9022     </td>\n",
       "        </tr>\n",
       "        <tr>\n",
       "            <td>male  </td> <td>577  </td> <td>24.2057     </td>\n",
       "        </tr>\n",
       "    </tbody>\n",
       "</table>"
      ],
      "text/plain": [
       "Sex    | count | Average Fare\n",
       "female | 314   | 46.9022\n",
       "male   | 577   | 24.2057"
      ]
     },
     "execution_count": 26,
     "metadata": {},
     "output_type": "execute_result"
    }
   ],
   "source": [
    "print(\"Question 1: What was the average fare of males compared to that of females?\")\n",
    "\n",
    "Avg_Fare = [0,0] # initializing an array for average values\n",
    "Sex_Dist = Titanic.group(\"Sex\").column(\"count\") # counting the number of males and females\n",
    "# computing averages using proportions and sums, then inputting into the blank table\n",
    "Avg_Fare[0] = sum(Titanic.where(\"Sex\",\"male\").column(\"Fare\"))/Sex_Dist[0] \n",
    "Avg_Fare[1] = sum(Titanic.where(\"Sex\",\"female\").column(\"Fare\"))/Sex_Dist[1]\n",
    "Titanic.group(\"Sex\").with_column(\"Average Fare\",Avg_Fare)"
   ]
  },
  {
   "cell_type": "code",
   "execution_count": 37,
   "metadata": {},
   "outputs": [
    {
     "name": "stdout",
     "output_type": "stream",
     "text": [
      "Question 2: What was the survival rate of males compared to that of females?\n"
     ]
    },
    {
     "data": {
      "text/html": [
       "<table border=\"1\" class=\"dataframe\">\n",
       "    <thead>\n",
       "        <tr>\n",
       "            <th>Sex</th> <th>count</th> <th>Survival Rates</th>\n",
       "        </tr>\n",
       "    </thead>\n",
       "    <tbody>\n",
       "        <tr>\n",
       "            <td>female</td> <td>314  </td> <td>0.742038      </td>\n",
       "        </tr>\n",
       "        <tr>\n",
       "            <td>male  </td> <td>577  </td> <td>0.188908      </td>\n",
       "        </tr>\n",
       "    </tbody>\n",
       "</table>"
      ],
      "text/plain": [
       "Sex    | count | Survival Rates\n",
       "female | 314   | 0.742038\n",
       "male   | 577   | 0.188908"
      ]
     },
     "execution_count": 37,
     "metadata": {},
     "output_type": "execute_result"
    }
   ],
   "source": [
    "print(\"Question 2: What was the survival rate of males compared to that of females?\")\n",
    "\n",
    "# identical coding methods as in (f)\n",
    "Titanic_proxy6 = Titanic.select(\"Sex\",\"Survived\") \n",
    "Titanic_proxy7 = Titanic_proxy6.groups([\"Survived\",\"Sex\"])\n",
    "Survive_Data = Titanic_proxy7.where(\"Survived\",1).column(\"count\")/(Titanic_proxy7.where(\"Survived\",1).column(\"count\")+Titanic_proxy7.where(\"Survived\",0).column(\"count\"))\n",
    "Titanic_proxy8 = Titanic_proxy6.group(\"Sex\").with_column(\"Survival Rates\",Survive_Data)\n",
    "Titanic_proxy8"
   ]
  },
  {
   "cell_type": "markdown",
   "metadata": {},
   "source": [
    "Documentation: I consulted course materials and online Python documentation to complete this assignment. I also collaborated with C2C Eric Hembling, who showed me different documentation methods for completing parts (e) and (f) of Q4. "
   ]
  }
 ],
 "metadata": {
  "kernelspec": {
   "display_name": "Python 3",
   "language": "python",
   "name": "python3"
  },
  "language_info": {
   "codemirror_mode": {
    "name": "ipython",
    "version": 3
   },
   "file_extension": ".py",
   "mimetype": "text/x-python",
   "name": "python",
   "nbconvert_exporter": "python",
   "pygments_lexer": "ipython3",
   "version": "3.6.5"
  }
 },
 "nbformat": 4,
 "nbformat_minor": 2
}
