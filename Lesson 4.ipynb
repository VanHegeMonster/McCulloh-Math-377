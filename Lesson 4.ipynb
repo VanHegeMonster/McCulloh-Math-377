{
 "cells": [
  {
   "cell_type": "markdown",
   "metadata": {},
   "source": [
    "## Lesson 4: Gordon McCulloh, 20 August 2018"
   ]
  },
  {
   "cell_type": "markdown",
   "metadata": {},
   "source": [
    "Q1: Create 3 variables for name (first and last), age, and hometown. Assign to these variable your own name, age, and hometown. Now, recreate the following sentence using variable assignment and the 'print' command in Python:\n",
    "\n",
    "\"I am Gordon McCulloh. I am 20 years old. I'm from Kennebunk, ME."
   ]
  },
  {
   "cell_type": "code",
   "execution_count": 31,
   "metadata": {},
   "outputs": [
    {
     "name": "stdout",
     "output_type": "stream",
     "text": [
      "I am Gordon McCulloh. I am 20 years old. I'm from Kennebunk, ME.\n"
     ]
    }
   ],
   "source": [
    "Name = \"Gordon McCulloh\"\n",
    "Age = 20\n",
    "Hometown = \"Kennebunk, ME\"\n",
    "string = \"I am %s. I am %d years old. I'm from %s.\" % (Name,Age,Hometown)\n",
    "print(string)"
   ]
  },
  {
   "cell_type": "markdown",
   "metadata": {},
   "source": [
    "1a. Now, use a string method to make your name lower case. Print the all lower case version of your name. "
   ]
  },
  {
   "cell_type": "code",
   "execution_count": 32,
   "metadata": {},
   "outputs": [
    {
     "name": "stdout",
     "output_type": "stream",
     "text": [
      "gordon mcculloh\n"
     ]
    }
   ],
   "source": [
    "print(Name.lower()) # function to make all letters lowercase in a string"
   ]
  },
  {
   "cell_type": "markdown",
   "metadata": {},
   "source": [
    "1b. Now use a string method to make your full name a proper noun. Print this version of your name."
   ]
  },
  {
   "cell_type": "code",
   "execution_count": 33,
   "metadata": {},
   "outputs": [
    {
     "name": "stdout",
     "output_type": "stream",
     "text": [
      "Gordon Mcculloh\n"
     ]
    }
   ],
   "source": [
    "print(Name.title()) # function to capitalize the first letter of words in string"
   ]
  },
  {
   "cell_type": "markdown",
   "metadata": {},
   "source": [
    "Q2: Using the 'replace' method, replace all \"I am\" with \"he is\" or \"she is\" and all \"I'm\" with \"he's\" or \"she's\"."
   ]
  },
  {
   "cell_type": "code",
   "execution_count": 34,
   "metadata": {},
   "outputs": [
    {
     "name": "stdout",
     "output_type": "stream",
     "text": [
      "He is Gordon McCulloh. He is 20 years old. He's from Kennebunk, ME.\n"
     ]
    }
   ],
   "source": [
    "newstring = string.replace(\"I am\", \"He is\").replace(\"I'm\", \"He's\")\n",
    "print(newstring) # prints the new variable with replaced strings"
   ]
  },
  {
   "cell_type": "markdown",
   "metadata": {},
   "source": [
    "Q3: Return a boolean response indicating whether the length of your original sentence (in Q1) is greater than your age plus 40."
   ]
  },
  {
   "cell_type": "code",
   "execution_count": 41,
   "metadata": {},
   "outputs": [
    {
     "name": "stdout",
     "output_type": "stream",
     "text": [
      "64\n"
     ]
    }
   ],
   "source": [
    "bool(len(string)>(Age+40)) # calls a boolean function to compare two scalars\n",
    "print(len(string)) # sanity check to see if the string is greater than 60"
   ]
  },
  {
   "cell_type": "markdown",
   "metadata": {},
   "source": [
    "Documentation: C2C Eric Hembling helped me to find the proper syntax for inputting strings and scalar values into a larger, conglomerate string."
   ]
  }
 ],
 "metadata": {
  "kernelspec": {
   "display_name": "Python 3",
   "language": "python",
   "name": "python3"
  },
  "language_info": {
   "codemirror_mode": {
    "name": "ipython",
    "version": 3
   },
   "file_extension": ".py",
   "mimetype": "text/x-python",
   "name": "python",
   "nbconvert_exporter": "python",
   "pygments_lexer": "ipython3",
   "version": "3.6.5"
  }
 },
 "nbformat": 4,
 "nbformat_minor": 2
}
