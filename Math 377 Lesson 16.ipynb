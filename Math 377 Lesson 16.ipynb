{
 "cells": [
  {
   "cell_type": "code",
   "execution_count": 31,
   "metadata": {},
   "outputs": [],
   "source": [
    "from datascience import *\n",
    "import numpy as np\n",
    "from math import *"
   ]
  },
  {
   "cell_type": "markdown",
   "metadata": {},
   "source": [
    "## Joint Distributions"
   ]
  },
  {
   "cell_type": "markdown",
   "metadata": {},
   "source": [
    "Recall from Lessons 13 & 14: let $X$ be a random variable. $X$ has a distribution that is described by a probability mass function (pmf) or probability density function (pdf). \n",
    "\n",
    "We can consider multiple random variables simultaneously using joint distributions. \n",
    "\n",
    "NOTE: When answering the questions below, you are not required to use Python. If you would like to answer in Markdown, feel free to change the type of the cell, or to use both types of cells. "
   ]
  },
  {
   "cell_type": "markdown",
   "metadata": {},
   "source": [
    "#### Example 1: Discrete Joint Distribution"
   ]
  },
  {
   "cell_type": "markdown",
   "metadata": {},
   "source": [
    "Let $X$ and $Y$ be discrete random variables that can each only take the values 0, 1 or 2, and do so according to the following distribution:"
   ]
  },
  {
   "cell_type": "markdown",
   "metadata": {},
   "source": [
    "\n",
    " |  | $X$  | 1 | 2 | 3 |\n",
    " |-- | ------ | ------ |\n",
    " |  | 1 | 0.17 | 0.15 | 0.08 |\n",
    " | $Y$ | 2 | 0.00 | 0.10 | 0.10 |\n",
    " |  | 3 | 0.08 | 0.20 | 0.12 |\n",
    " \n"
   ]
  },
  {
   "cell_type": "markdown",
   "metadata": {},
   "source": [
    "This is an example of a joint probability mass function (joint pmf), and is denoted as $f_{X,Y}(x,y)$. \n",
    "\n",
    "For example, the probability that $X$ takes the value 1 AND $Y$ takes the value 3, or $P(X=1,Y=3)$ is equal to 0.08. "
   ]
  },
  {
   "cell_type": "markdown",
   "metadata": {},
   "source": [
    "**_1.1_** Find $P(X = 2,Y=3)$. \n",
    "\n",
    "**_1.2_** Find $E(X+Y)$. "
   ]
  },
  {
   "cell_type": "markdown",
   "metadata": {},
   "source": [
    "1.1 We simply look at the discrete probability at the given location. P(2,3) = 0.20"
   ]
  },
  {
   "cell_type": "code",
   "execution_count": 32,
   "metadata": {},
   "outputs": [
    {
     "data": {
      "text/plain": [
       "4.05"
      ]
     },
     "execution_count": 32,
     "metadata": {},
     "output_type": "execute_result"
    }
   ],
   "source": [
    "# 1.2\n",
    "XplusY = Table().with_columns('Sum',np.arange(2,7),'P',[0.17,0.15,0.26,0.3,0.12])\n",
    "sum(XplusY.column(0)*XplusY.column(1))"
   ]
  },
  {
   "cell_type": "markdown",
   "metadata": {},
   "source": [
    "### Marginal Probability"
   ]
  },
  {
   "cell_type": "markdown",
   "metadata": {},
   "source": [
    "When given a joint pmf like this, we may want to know the distribution of $X$ or $Y$ individually. Specifically, we might want to know $P(X=1)$ or $f_Y(y)$. \n",
    "\n",
    "Marginal probability can be found by summing across the remaining variable. Specifically,\n",
    "\n",
    "$$\n",
    "f_X(x)=\\sum_y f_{X,Y}(x,y)\n",
    "$$\n",
    "and \n",
    "$$\n",
    "f_Y(y)=\\sum_x f_{X,Y}(x,y)\n",
    "$$\n"
   ]
  },
  {
   "cell_type": "markdown",
   "metadata": {},
   "source": [
    "**_1.3_** Find $P(X=2)$. \n",
    "\n",
    "**_1.4_** Find $f_Y(y)$ (the marginal pmf of $Y$). \n",
    "\n",
    "**_1.5_** Find $E(Y)$ and $V(Y)$. "
   ]
  },
  {
   "cell_type": "code",
   "execution_count": 33,
   "metadata": {},
   "outputs": [
    {
     "data": {
      "text/plain": [
       "0.45"
      ]
     },
     "execution_count": 33,
     "metadata": {},
     "output_type": "execute_result"
    }
   ],
   "source": [
    "# 1.3\n",
    "Prob = 0.15+0.1+0.2\n",
    "Prob"
   ]
  },
  {
   "cell_type": "code",
   "execution_count": 34,
   "metadata": {
    "scrolled": true
   },
   "outputs": [
    {
     "data": {
      "text/html": [
       "<table border=\"1\" class=\"dataframe\">\n",
       "    <thead>\n",
       "        <tr>\n",
       "            <th>Y</th> <th>fy(y)</th>\n",
       "        </tr>\n",
       "    </thead>\n",
       "    <tbody>\n",
       "        <tr>\n",
       "            <td>1   </td> <td>0.4  </td>\n",
       "        </tr>\n",
       "        <tr>\n",
       "            <td>2   </td> <td>0.2  </td>\n",
       "        </tr>\n",
       "        <tr>\n",
       "            <td>3   </td> <td>0.4  </td>\n",
       "        </tr>\n",
       "    </tbody>\n",
       "</table>"
      ],
      "text/plain": [
       "Y    | fy(y)\n",
       "1    | 0.4\n",
       "2    | 0.2\n",
       "3    | 0.4"
      ]
     },
     "execution_count": 34,
     "metadata": {},
     "output_type": "execute_result"
    }
   ],
   "source": [
    "# 1.4\n",
    "Pmf_y = Table().with_columns('Y',np.arange(1,4),'fy(y)',[0.17+0.15+0.08,0.2,0.08+0.2+0.12])\n",
    "Pmf_y"
   ]
  },
  {
   "cell_type": "code",
   "execution_count": 35,
   "metadata": {},
   "outputs": [
    {
     "name": "stdout",
     "output_type": "stream",
     "text": [
      "The expected value is 2.0 and the variance is 0.8\n"
     ]
    }
   ],
   "source": [
    "# 1.5\n",
    "muY = sum(Pmf_y.column(0)*Pmf_y.column(1))\n",
    "varY = sum((Pmf_y.column(0)-muY)**2*Pmf_y.column(1))\n",
    "print('The expected value is',muY,'and the variance is',varY)"
   ]
  },
  {
   "cell_type": "markdown",
   "metadata": {},
   "source": [
    "### Conditional Probability\n",
    "\n",
    "We may be interested in the probability $X$ takes a specific value conditioned on the value of $Y$. Recall that conditional probability is given by $P(A|B)=\\frac{P(A,B)}{P(B)}$. \n",
    "\n",
    "So, essentially, conditional probability can be found by dividing the joint probability by the appropriate marginal probability. "
   ]
  },
  {
   "cell_type": "markdown",
   "metadata": {},
   "source": [
    "**_1.6_** Find $P(Y=1|X=3)$. \n",
    "\n",
    "**_1.7_** Find $f_{X|Y=2}(x)$, the conditional pmf of $X$, given $Y=2$. \n",
    "\n",
    "**_1.8_** Find $E(X|Y=2)$ and $V(X|Y=2)$. "
   ]
  },
  {
   "cell_type": "code",
   "execution_count": 36,
   "metadata": {
    "scrolled": true
   },
   "outputs": [
    {
     "data": {
      "text/plain": [
       "0.26666666666666666"
      ]
     },
     "execution_count": 36,
     "metadata": {},
     "output_type": "execute_result"
    }
   ],
   "source": [
    "# 1.6\n",
    "Prob = 0.08/(0.08+0.1+0.12)\n",
    "Prob"
   ]
  },
  {
   "cell_type": "code",
   "execution_count": 37,
   "metadata": {},
   "outputs": [
    {
     "data": {
      "text/html": [
       "<table border=\"1\" class=\"dataframe\">\n",
       "    <thead>\n",
       "        <tr>\n",
       "            <th>X</th> <th>fx|y=2(x)</th>\n",
       "        </tr>\n",
       "    </thead>\n",
       "    <tbody>\n",
       "        <tr>\n",
       "            <td>1   </td> <td>0        </td>\n",
       "        </tr>\n",
       "        <tr>\n",
       "            <td>2   </td> <td>0.5      </td>\n",
       "        </tr>\n",
       "        <tr>\n",
       "            <td>3   </td> <td>0.5      </td>\n",
       "        </tr>\n",
       "    </tbody>\n",
       "</table>"
      ],
      "text/plain": [
       "X    | fx|y=2(x)\n",
       "1    | 0\n",
       "2    | 0.5\n",
       "3    | 0.5"
      ]
     },
     "execution_count": 37,
     "metadata": {},
     "output_type": "execute_result"
    }
   ],
   "source": [
    "# 1.7\n",
    "fxy2_x = Table().with_columns('X',np.arange(1,4),'fx|y=2(x)',[0,0.1/0.2,0.1/0.2])\n",
    "fxy2_x"
   ]
  },
  {
   "cell_type": "code",
   "execution_count": 38,
   "metadata": {},
   "outputs": [
    {
     "name": "stdout",
     "output_type": "stream",
     "text": [
      "The expected value is 2.5 and the variance is 0.25\n"
     ]
    }
   ],
   "source": [
    "# 1.8\n",
    "muxy2 = sum(fxy2_x.column(0)*fxy2_x.column(1))\n",
    "varxy2 = sum((fxy2_x.column(0)-muxy2)**2*fxy2_x.column(1))\n",
    "print('The expected value is',muxy2,'and the variance is',varxy2)"
   ]
  },
  {
   "cell_type": "markdown",
   "metadata": {},
   "source": [
    "**_1.9_** Are $X$ and $Y$ independent? Why or why not? "
   ]
  },
  {
   "cell_type": "markdown",
   "metadata": {},
   "source": [
    "No, X and Y are dependent. In order for these variables to be independent, the probability of one variable given a specified value of the other must be equal to the probability of the former variable. Essentially, P(X|Y) = P(X). (1.7) shows that this condition is not met."
   ]
  },
  {
   "cell_type": "markdown",
   "metadata": {},
   "source": [
    "### Covariance and Correlation\n",
    "\n",
    "Expected value and variance help us characterize $X$ and $Y$ marginally and conditionally, but we may also be interested in measuring the relationship between $X$ and $Y$. For this, we use *covariance*. \n",
    "\n",
    "$$\n",
    "Cov(X,Y)=E[(X-E(X))(Y-E(Y))] = E(XY)-E(X)E(Y)\n",
    "$$\n",
    "\n",
    "Note that if $X$ and $Y$ are independent, $Cov(X,Y) =0$. The converse is NOT necessarily true. \n",
    "\n",
    "Covariance is dependent on the scales of $X$ and $Y$, so if the two variables are of vastly different scale, we'll want to use covariance's unitless counterpart, correlation, denoted by $\\rho$. \n",
    "\n",
    "$$\n",
    "\\rho = \\frac{Cov(X,Y)}{\\sqrt{Var(X)Var(Y)}}\n",
    "$$\n",
    "\n",
    "$\\rho$ is bounded by the interval $[-1,1]$. When $\\rho=1$, $X$ and $Y$ are perfectly positively correlated. Similarly, when $\\rho=-1$, $X$ and $Y$ are perfectly negatively correlated. "
   ]
  },
  {
   "cell_type": "markdown",
   "metadata": {},
   "source": [
    "**_1.10_** Find $Cov(X,Y)$\n",
    "\n",
    "**_1.11_** Find $Corr(X,Y)$, or $\\rho$. "
   ]
  },
  {
   "cell_type": "code",
   "execution_count": 39,
   "metadata": {},
   "outputs": [
    {
     "data": {
      "text/plain": [
       "0.13000000000000078"
      ]
     },
     "execution_count": 39,
     "metadata": {},
     "output_type": "execute_result"
    }
   ],
   "source": [
    "# 1.10\n",
    "Pmf_x = Table().with_columns('X',np.arange(1,4),'fx(x)',[0.17+0.08,0.1+0.15+0.2,0.08+0.1+0.12])\n",
    "muX = sum(Pmf_x.column(0)*Pmf_x.column(1))\n",
    "XY = Table().with_columns('Product',[1,2,3,4,6,9],'P',[0.17,0.15,0.16,0.10,0.30,0.12])\n",
    "muXY = sum(XY.column(0)*XY.column(1))\n",
    "\n",
    "CovXY = muXY-muX*muY\n",
    "CovXY"
   ]
  },
  {
   "cell_type": "code",
   "execution_count": 40,
   "metadata": {},
   "outputs": [
    {
     "data": {
      "text/plain": [
       "0.1964293126950385"
      ]
     },
     "execution_count": 40,
     "metadata": {},
     "output_type": "execute_result"
    }
   ],
   "source": [
    "# 1.11\n",
    "varX = sum((Pmf_x.column(0)-muX)**2*Pmf_x.column(1))\n",
    "CorrXY = CovXY/(varX*varY)**0.5\n",
    "CorrXY"
   ]
  },
  {
   "cell_type": "markdown",
   "metadata": {},
   "source": [
    "In problem 1.2, we found $E(X+Y)$. In order to find $Var(X+Y)$, we need to know how $X$ and $Y$ are correlated: \n",
    "\n",
    "$$\n",
    "Var(X+Y)= Var(X)+Var(Y)+2*Cov(X,Y)\n",
    "$$"
   ]
  },
  {
   "cell_type": "markdown",
   "metadata": {},
   "source": [
    "**_1.12_** Find $Var(X+Y)$. "
   ]
  },
  {
   "cell_type": "code",
   "execution_count": 41,
   "metadata": {},
   "outputs": [
    {
     "data": {
      "text/plain": [
       "1.0874999999999986"
      ]
     },
     "execution_count": 41,
     "metadata": {},
     "output_type": "execute_result"
    }
   ],
   "source": [
    "# 1.12\n",
    "varXplusY = varX+varY-2*CovXY\n",
    "varXplusY"
   ]
  },
  {
   "cell_type": "markdown",
   "metadata": {},
   "source": [
    "#### Example 2: Continuous Joint Distribution\n",
    "\n",
    "All of the concepts above apply to continuous random variables. Consider continuous random variables $X$ and $Y$ with the following joint pdf:\n",
    "\n",
    "$$\n",
    "f_{X,Y}(x,y)=k(x+y)\n",
    "$$\n",
    "\n",
    "where both $x$ and $y$ are bounded by the interval $[0,1]$. "
   ]
  },
  {
   "cell_type": "markdown",
   "metadata": {},
   "source": [
    "**_2.1_** Find the value of $k$ that makes $f$ a valid joint pdf. "
   ]
  },
  {
   "cell_type": "markdown",
   "metadata": {},
   "source": [
    "k = 1 makes f a valid joint pdf given the definitions above."
   ]
  },
  {
   "cell_type": "markdown",
   "metadata": {},
   "source": [
    "**_2.2_** Find $P(X<0.5,Y<0.5)$"
   ]
  },
  {
   "cell_type": "code",
   "execution_count": 45,
   "metadata": {},
   "outputs": [
    {
     "data": {
      "text/plain": [
       "0.125"
      ]
     },
     "execution_count": 45,
     "metadata": {},
     "output_type": "execute_result"
    }
   ],
   "source": [
    "# Define the function\n",
    "fxy = lambda x, y: x+y\n",
    "# Output the probability\n",
    "from scipy import integrate\n",
    "integrate.dblquad(fxy,0,0.5,lambda x: 0, lambda x: .5)[0]"
   ]
  },
  {
   "cell_type": "markdown",
   "metadata": {},
   "source": [
    "**_2.3_** Find $f_X(x)$ and $f_Y(y)$, the marginal pdfs of $X$ and $Y$. \n",
    "\n",
    "**_2.4_** Find $E(X)$ and $E(Y)$. "
   ]
  },
  {
   "cell_type": "code",
   "execution_count": 50,
   "metadata": {},
   "outputs": [],
   "source": [
    "# We find the marginal pdfs from integration methods\n",
    "def fx(x):\n",
    "    return x+0.5\n",
    "def fy(y):\n",
    "    return y+0.5"
   ]
  },
  {
   "cell_type": "markdown",
   "metadata": {},
   "source": [
    "The expected values for X and Y can be solved for through integration. However, I do not know how to script this in LaTex. Performed separately on scratch paper, E(X) = 7/12 and E(y) = E(x) = 7/12."
   ]
  },
  {
   "cell_type": "markdown",
   "metadata": {},
   "source": [
    "**_2.5_** Find $P(X>0.5\\vert Y\\leq 0.5)$. "
   ]
  },
  {
   "cell_type": "code",
   "execution_count": 58,
   "metadata": {},
   "outputs": [
    {
     "data": {
      "text/plain": [
       "0.6666666666666666"
      ]
     },
     "execution_count": 58,
     "metadata": {},
     "output_type": "execute_result"
    }
   ],
   "source": [
    "p_num = integrate.dblquad(lambda x, y: (x+y), 0, .5, lambda x: .5, lambda x: 1)[0]\n",
    "p_denom = integrate.dblquad(lambda x, y: (x+y), 0, .5, lambda x: 0, lambda x: 1)[0]\n",
    "p_num/p_denom"
   ]
  },
  {
   "cell_type": "markdown",
   "metadata": {},
   "source": [
    "**_2.6_** Find the conditional distributions of $X|Y$ and $Y|X$. Recall that conditional distributions can be found by dividing the joint pdf by the relevant marginal pdf. \n",
    "\n",
    "**_2.7_** Find $E(X|Y)$ and $E(Y|X)$."
   ]
  },
  {
   "cell_type": "markdown",
   "metadata": {},
   "source": [
    "We find the conditional distributions by combining ideas from above. X|Y = (x+y)/(y+0.5) and Y|X = (x+y)/(x+0.5)"
   ]
  },
  {
   "cell_type": "markdown",
   "metadata": {},
   "source": [
    "The expected values of the conditional distributions are both equal to 0.5. I do not know how to express the integration in LaTex format yet, but these were computed on scratch paper."
   ]
  },
  {
   "cell_type": "markdown",
   "metadata": {},
   "source": [
    "**_2.8_** Are $X$ and $Y$ independent? "
   ]
  },
  {
   "cell_type": "markdown",
   "metadata": {},
   "source": [
    "X and Y are dependent because f(x,y) is neither separable, nor do the expected values of X and Y equal the expected values of X|Y or Y|X. Both of these discount independence."
   ]
  },
  {
   "cell_type": "markdown",
   "metadata": {},
   "source": [
    "**_2.9_** What is $Cov(X,Y)$? "
   ]
  },
  {
   "cell_type": "code",
   "execution_count": 66,
   "metadata": {},
   "outputs": [
    {
     "data": {
      "text/plain": [
       "-0.006944444444444444"
      ]
     },
     "execution_count": 66,
     "metadata": {},
     "output_type": "execute_result"
    }
   ],
   "source": [
    "# We use the equation from question 1\n",
    "integrate.dblquad(lambda x,y: (x+y)*(x-7/12)*(y-7/12),0,1,lambda x: 0, lambda x: 1)[0]"
   ]
  }
 ],
 "metadata": {
  "kernelspec": {
   "display_name": "Python 3",
   "language": "python",
   "name": "python3"
  },
  "language_info": {
   "codemirror_mode": {
    "name": "ipython",
    "version": 3
   },
   "file_extension": ".py",
   "mimetype": "text/x-python",
   "name": "python",
   "nbconvert_exporter": "python",
   "pygments_lexer": "ipython3",
   "version": "3.6.5"
  }
 },
 "nbformat": 4,
 "nbformat_minor": 2
}
