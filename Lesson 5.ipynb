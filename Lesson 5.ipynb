{
 "cells": [
  {
   "cell_type": "markdown",
   "metadata": {},
   "source": [
    "## Lesson 5: Gordon McCulloh, 22 August 2018"
   ]
  },
  {
   "cell_type": "code",
   "execution_count": 10,
   "metadata": {},
   "outputs": [],
   "source": [
    "# Initializing numpy and datascience\n",
    "import numpy as np\n",
    "import datascience as ds"
   ]
  },
  {
   "cell_type": "markdown",
   "metadata": {},
   "source": [
    "Q1: Create an array containing 4 strings elements: your first name, your last name, your birth state, and your favorite color. Then,(a) use a numpy function to make all elements uppercase (b) Use a numpy function to count the number of times the letter \"a\" appears in each element of the array (c) Optional - use a numpy function to find the length of each element in the array."
   ]
  },
  {
   "cell_type": "code",
   "execution_count": 30,
   "metadata": {},
   "outputs": [
    {
     "name": "stdout",
     "output_type": "stream",
     "text": [
      "Array: ['Gordon' 'McCulloh' 'Maine' 'Blue']\n"
     ]
    }
   ],
   "source": [
    "A = make_array(\"Gordon\",\"McCulloh\",\"Maine\",\"Blue\")\n",
    "print(\"Array:\",A)"
   ]
  },
  {
   "cell_type": "code",
   "execution_count": 31,
   "metadata": {},
   "outputs": [
    {
     "name": "stdout",
     "output_type": "stream",
     "text": [
      "A. ['GORDON' 'MCCULLOH' 'MAINE' 'BLUE']\n"
     ]
    }
   ],
   "source": [
    "Upper_A = np.char.upper(A) # capitalizes each element in the array\n",
    "print(\"A.\",Upper_A)"
   ]
  },
  {
   "cell_type": "code",
   "execution_count": 38,
   "metadata": {},
   "outputs": [
    {
     "name": "stdout",
     "output_type": "stream",
     "text": [
      "B. [0 0 1 0]\n"
     ]
    }
   ],
   "source": [
    "A_count = np.char.count(A,\"a\") # counts the presence of 'a' in a character array\n",
    "print(\"B.\", A_count)"
   ]
  },
  {
   "cell_type": "code",
   "execution_count": 39,
   "metadata": {},
   "outputs": [
    {
     "name": "stdout",
     "output_type": "stream",
     "text": [
      "C. [6, 8, 5, 4]\n"
     ]
    }
   ],
   "source": [
    "Sum_elements = [len(x) for x in A] # automatically loops and finds the length of elements in A\n",
    "print(\"C.\",Sum_elements)"
   ]
  },
  {
   "cell_type": "markdown",
   "metadata": {},
   "source": [
    "Q2: Creat an array containing every other odd number starting with 1 and ending with (and including) 41. Then, (a) use numpy to find the sum and the product of the elements of this array. Note: this will require us to convert the elements of our array to floats using the astype method (b) use numpy to take the natural log of each element (c) Optional - the numpy function np.diff finds the difference between adjacent elements of an array. Find the sum of adjacent elements of this array."
   ]
  },
  {
   "cell_type": "code",
   "execution_count": 40,
   "metadata": {},
   "outputs": [
    {
     "name": "stdout",
     "output_type": "stream",
     "text": [
      "Odds 1-41:  [ 1  5  9 13 17 21 25 29 33 37 41]\n"
     ]
    }
   ],
   "source": [
    "odds = np.arange(1,42,4) # every other odd number 1-41, note that the upper limit must exceed 41\n",
    "print(\"Odds 1-41: \",odds)"
   ]
  },
  {
   "cell_type": "code",
   "execution_count": 45,
   "metadata": {},
   "outputs": [
    {
     "name": "stdout",
     "output_type": "stream",
     "text": [
      "A. Sum of elements: 231\n",
      "Cumulative product of elements: [1.00000000e+00 5.00000000e+00 4.50000000e+01 5.85000000e+02\n",
      " 9.94500000e+03 2.08845000e+05 5.22112500e+06 1.51412625e+08\n",
      " 4.99661662e+09 1.84874815e+11 7.57986742e+12]\n"
     ]
    }
   ],
   "source": [
    "Sum = np.sum(odds) # numpy summation function\n",
    "CumProd = np.cumprod(odds,dtype = \"float64\") # provides element-wise cumulative product\n",
    "print(\"A. Sum of elements:\",Sum)\n",
    "print(\"Cumulative product of elements:\",CumProd) # eliminates negative issue"
   ]
  },
  {
   "cell_type": "code",
   "execution_count": 46,
   "metadata": {},
   "outputs": [
    {
     "name": "stdout",
     "output_type": "stream",
     "text": [
      "B. [0.0, 1.6094379124341003, 2.1972245773362196, 2.5649493574615367, 2.833213344056216, 3.044522437723423, 3.2188758248682006, 3.367295829986474, 3.4965075614664802, 3.6109179126442243, 3.713572066704308]\n"
     ]
    }
   ],
   "source": [
    "Natty_log = [np.log(x) for x in odds] # loops through the array to take the natural log of each element\n",
    "print(\"B.\",Natty_log)"
   ]
  },
  {
   "cell_type": "code",
   "execution_count": 50,
   "metadata": {},
   "outputs": [
    {
     "name": "stdout",
     "output_type": "stream",
     "text": [
      "C. 40\n"
     ]
    }
   ],
   "source": [
    "Sum_adjacent = np.sum(np.diff(odds)) # np.diff automatically produces another array\n",
    "print(\"C.\",Sum_adjacent)"
   ]
  },
  {
   "cell_type": "markdown",
   "metadata": {},
   "source": [
    "Documentation: C2C Van Hegewald helped me to find and use the proper Python documentation for solving 1C."
   ]
  }
 ],
 "metadata": {
  "kernelspec": {
   "display_name": "Python 3",
   "language": "python",
   "name": "python3"
  },
  "language_info": {
   "codemirror_mode": {
    "name": "ipython",
    "version": 3
   },
   "file_extension": ".py",
   "mimetype": "text/x-python",
   "name": "python",
   "nbconvert_exporter": "python",
   "pygments_lexer": "ipython3",
   "version": "3.6.5"
  }
 },
 "nbformat": 4,
 "nbformat_minor": 2
}
