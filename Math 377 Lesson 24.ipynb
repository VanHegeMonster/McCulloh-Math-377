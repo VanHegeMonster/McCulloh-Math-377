{
 "cells": [
  {
   "cell_type": "code",
   "execution_count": 2,
   "metadata": {},
   "outputs": [],
   "source": [
    "from datascience import *\n",
    "import numpy as np\n",
    "from math import *\n",
    "from scipy import stats\n",
    "import matplotlib.pyplot as plt\n",
    "%matplotlib inline"
   ]
  },
  {
   "cell_type": "markdown",
   "metadata": {},
   "source": [
    "## Lesson 24: Hypothesis Testing Errors & Power"
   ]
  },
  {
   "cell_type": "markdown",
   "metadata": {},
   "source": [
    "Throughout this block, we have been studying hypothesis tests. We have covered the four basic steps of any hypothesis test, and we have practiced various methods for obtaining the distribution of our test statistic under the null hypothesis. \n",
    "\n",
    "After we have reached a conclusion (reject or fail to reject), we must consider possible errors. \n",
    "\n",
    "### Type I error \n",
    "\n",
    "Type I error is the event that we rejected the null hypothesis when the null hypothesis was actually true. Type I error is also known as a false positive. The probability of a Type I error is usually defined by the threshold used for rejection. A common threshold is 0.05. Those of you who have taken statistics before may recognize this value as $\\alpha$. \n",
    "\n",
    "### Type II error\n",
    "\n",
    "Type II error is the event that we failed to reject the null hypothesis when the null hypothesis was actually false. This is otherwise known as a false negative. The probability of a Type II error is harder to find and requires a more in-depth analysis of a hypothesis test. The probability of a Type II error is often given as $\\beta$, and $1-\\beta$ is referred to as **Power**. The power of a test is probability that we will reject the null hypothesis when we are supposed to. \n",
    "\n",
    "Which one of these errors is more serious? It depends on the context of the problem. "
   ]
  },
  {
   "cell_type": "markdown",
   "metadata": {},
   "source": [
    "### Example: Golf Balls\n",
    "\n",
    "Joe has a summer job at a golf course and one of his jobs is to fish out golf balls from the water traps. He has a theory that certain types of golf ball are more likely to end up in the water than others. Let's assume there are four brands of golf ball, let's and assume that all four are used equally at this golf course. He fishes out 100 golf balls and counts each brand. He finds 30 of brand A, 30 of brand B, 20 of brand C and 20 of brand D. Conduct a hypothesis test to determine whether certain types of golf ball are more likely than others to end up in the water."
   ]
  },
  {
   "cell_type": "markdown",
   "metadata": {},
   "source": [
    "Step 1: Hypotheses\n",
    "\n",
    "**Null Hypothesis:** The four golf ball brands are equally likely to end up in the water traps.\n",
    "\n",
    "**Alternative Hypothesis:** Either brand A, B, C, D, or some combination thereof  is more likely to end up in the water traps."
   ]
  },
  {
   "cell_type": "markdown",
   "metadata": {},
   "source": [
    "Step 2: Test statistic\n",
    "\n",
    "There are many correct answers, but let's go with sum of absolute difference between observed and expected counts under $H_0$. To do this, we need to find the expected counts. If each ball was equally likely, how many should we expected to find of each if we select 100 golf balls? "
   ]
  },
  {
   "cell_type": "markdown",
   "metadata": {},
   "source": [
    "If each ball is equally likely to end up in the water traps, then Joe should expect to find 25 balls of each type (100 balls divided by 4 brands)."
   ]
  },
  {
   "cell_type": "markdown",
   "metadata": {},
   "source": [
    "Step 3: $p$-value\n",
    "\n",
    "We need the distribution of the test statistic under $H_0$. "
   ]
  },
  {
   "cell_type": "code",
   "execution_count": 3,
   "metadata": {},
   "outputs": [],
   "source": [
    "# Simulation of a non-binomial distribution\n",
    "\n",
    "brands = ['A','B','C','D']\n",
    "sample_X = [] # initialize\n",
    "\n",
    "# Use a systematic approach with the given test statistic thought process\n",
    "for i in np.arange(10**4):\n",
    "    X = np.random.choice(brands,100,replace=True)\n",
    "    sample_X = np.append(sample_X,abs(sum(X=='A')-25)+abs(sum(X=='B')-25)+abs(sum(X=='C')-25)+abs(sum(X=='D')-25))"
   ]
  },
  {
   "cell_type": "code",
   "execution_count": 4,
   "metadata": {},
   "outputs": [
    {
     "data": {
      "text/plain": [
       "20"
      ]
     },
     "execution_count": 4,
     "metadata": {},
     "output_type": "execute_result"
    }
   ],
   "source": [
    "# The test statistic of the given sample\n",
    "(30-25)+(30-25)+(25-20)+(25-20)"
   ]
  },
  {
   "cell_type": "code",
   "execution_count": 5,
   "metadata": {},
   "outputs": [
    {
     "name": "stdout",
     "output_type": "stream",
     "text": [
      "The associated p-value for the given golf ball sample is: 0.1902\n"
     ]
    }
   ],
   "source": [
    "# P-value calculation\n",
    "p_val = np.sum(sample_X > 19)/10**4\n",
    "print('The associated p-value for the given golf ball sample is:',p_val)"
   ]
  },
  {
   "cell_type": "markdown",
   "metadata": {},
   "source": [
    "Step 4: Conclude\n",
    "\n",
    "In conclusion, we fail to reject the Null Hypothesis with an approximate p-value of 0.19. This suggests that the four ball brands are equally likely to end up in the water traps."
   ]
  },
  {
   "cell_type": "markdown",
   "metadata": {},
   "source": [
    "What kind of error could we have made in this case? "
   ]
  },
  {
   "cell_type": "markdown",
   "metadata": {},
   "source": [
    "By failing to reject the null hypothesis, we are prone to **Type II** error - a false negative. This would mean that we failed to identify that some ball brands are more likely to end up in the water traps than others."
   ]
  },
  {
   "cell_type": "markdown",
   "metadata": {},
   "source": [
    "#### Power \n",
    "Suppose that, in truth, 30% of the balls found in the water were brand A, 30% were brand B, 20% were brand C and 20% were brand D. In this case, our collected sample reflected this truth perfectly. However, our hypothesis test failed to recognize this deviation from equal proportions. We made a type II error. This is because this test has fairly low power. Use simulation to determine the power of this test. "
   ]
  },
  {
   "cell_type": "markdown",
   "metadata": {},
   "source": [
    "I am looking for the probability that I reject the null hypothesis given the true proportions laid out above. Well, first I need to figure out for what values of my test statistic I would reject $H_0$. "
   ]
  },
  {
   "cell_type": "code",
   "execution_count": 6,
   "metadata": {},
   "outputs": [],
   "source": [
    "# Define a function so that we may use guess-and-check methods\n",
    "def X_cutoff(X):\n",
    "    return np.sum(sample_X >= X)/len(sample_X)"
   ]
  },
  {
   "cell_type": "code",
   "execution_count": 7,
   "metadata": {},
   "outputs": [
    {
     "data": {
      "text/plain": [
       "0.0759"
      ]
     },
     "execution_count": 7,
     "metadata": {},
     "output_type": "execute_result"
    }
   ],
   "source": [
    "X_cutoff(24)"
   ]
  },
  {
   "cell_type": "code",
   "execution_count": 8,
   "metadata": {},
   "outputs": [
    {
     "data": {
      "text/plain": [
       "0.0452"
      ]
     },
     "execution_count": 8,
     "metadata": {},
     "output_type": "execute_result"
    }
   ],
   "source": [
    "X_cutoff(25)"
   ]
  },
  {
   "cell_type": "markdown",
   "metadata": {},
   "source": [
    "Test statistic values of 25 or greater would cause us to reject $H_o$."
   ]
  },
  {
   "cell_type": "markdown",
   "metadata": {},
   "source": [
    "Next, I need to simulate from the true population and determine how often my test statistic would have met this threshold. "
   ]
  },
  {
   "cell_type": "code",
   "execution_count": 13,
   "metadata": {},
   "outputs": [
    {
     "data": {
      "text/html": [
       "<table border=\"1\" class=\"dataframe\">\n",
       "    <thead>\n",
       "        <tr>\n",
       "            <th>X</th>\n",
       "        </tr>\n",
       "    </thead>\n",
       "    <tbody>\n",
       "        <tr>\n",
       "            <td>26  </td>\n",
       "        </tr>\n",
       "        <tr>\n",
       "            <td>34  </td>\n",
       "        </tr>\n",
       "        <tr>\n",
       "            <td>24  </td>\n",
       "        </tr>\n",
       "        <tr>\n",
       "            <td>32  </td>\n",
       "        </tr>\n",
       "        <tr>\n",
       "            <td>22  </td>\n",
       "        </tr>\n",
       "        <tr>\n",
       "            <td>22  </td>\n",
       "        </tr>\n",
       "        <tr>\n",
       "            <td>26  </td>\n",
       "        </tr>\n",
       "        <tr>\n",
       "            <td>38  </td>\n",
       "        </tr>\n",
       "        <tr>\n",
       "            <td>16  </td>\n",
       "        </tr>\n",
       "        <tr>\n",
       "            <td>22  </td>\n",
       "        </tr>\n",
       "    </tbody>\n",
       "</table>\n",
       "<p>... (9990 rows omitted)</p>"
      ],
      "text/plain": [
       "X\n",
       "26\n",
       "34\n",
       "24\n",
       "32\n",
       "22\n",
       "22\n",
       "26\n",
       "38\n",
       "16\n",
       "22\n",
       "... (9990 rows omitted)"
      ]
     },
     "execution_count": 13,
     "metadata": {},
     "output_type": "execute_result"
    }
   ],
   "source": [
    "true_pop_sim = [] # initialize\n",
    "\n",
    "for i in np.arange(10**4):\n",
    "    ball_sample = stats.multinomial.rvs(100,[0.3,0.3,0.2,0.2],size=1) # multinomial distribution\n",
    "    true_pop_sim = np.append(true_pop_sim, sum(abs(sum(ball_sample)-25)))\n",
    "    \n",
    "sample_tab = Table().with_column('X',true_pop_sim)\n",
    "sample_tab"
   ]
  },
  {
   "cell_type": "code",
   "execution_count": 14,
   "metadata": {},
   "outputs": [
    {
     "data": {
      "text/plain": [
       "(array([  76.,  766., 2043., 2765., 1722., 1655.,  700.,  217.,   51.,\n",
       "           5.]),\n",
       " array([ 0. ,  5.6, 11.2, 16.8, 22.4, 28. , 33.6, 39.2, 44.8, 50.4, 56. ]),\n",
       " <a list of 10 Patch objects>)"
      ]
     },
     "execution_count": 14,
     "metadata": {},
     "output_type": "execute_result"
    },
    {
     "data": {
      "image/png": "[encoded data removed]",
      "text/plain": [
       "<Figure size 432x288 with 1 Axes>"
      ]
     },
     "metadata": {},
     "output_type": "display_data"
    }
   ],
   "source": [
    "plt.hist(true_pop_sim)"
   ]
  },
  {
   "cell_type": "code",
   "execution_count": 18,
   "metadata": {},
   "outputs": [
    {
     "name": "stdout",
     "output_type": "stream",
     "text": [
      "The power of the test is: 0.3449\n"
     ]
    }
   ],
   "source": [
    "# Power calculation\n",
    "power = np.mean(true_pop_sim >= 25)\n",
    "print('The power of the test is:',power)"
   ]
  },
  {
   "cell_type": "markdown",
   "metadata": {},
   "source": [
    "What do you think about this power? "
   ]
  },
  {
   "cell_type": "markdown",
   "metadata": {},
   "source": [
    "This power is small enough to be worrisome to me. We interpret $\\beta = 65\\%$ to denote the probability of a Type II error, or a false negative result given the structure of the experiment and the given distribution. Thus, the likelihood that we are wrong is greater than 50%, which seems counterintuitive."
   ]
  },
  {
   "cell_type": "markdown",
   "metadata": {},
   "source": [
    "Repeat this power calculation, but assume Joe collects 500 balls instead of 100. Note that you will have to obtain a new critical value. What does this tell you about power and sample size?"
   ]
  },
  {
   "cell_type": "code",
   "execution_count": 19,
   "metadata": {},
   "outputs": [],
   "source": [
    "sample_X = [] # initialize\n",
    "\n",
    "# We expect to find 500/4 = 125 balls of each brand\n",
    "for i in np.arange(10**4):\n",
    "    X = np.random.choice(brands,500,replace=True)\n",
    "    sample_X = np.append(sample_X,abs(sum(X=='A')-125)+abs(sum(X=='B')-125)+abs(sum(X=='C')-125)+abs(sum(X=='D')-125))"
   ]
  },
  {
   "cell_type": "code",
   "execution_count": 20,
   "metadata": {},
   "outputs": [
    {
     "data": {
      "text/plain": [
       "0.0623"
      ]
     },
     "execution_count": 20,
     "metadata": {},
     "output_type": "execute_result"
    }
   ],
   "source": [
    "X_cutoff(54)"
   ]
  },
  {
   "cell_type": "code",
   "execution_count": 21,
   "metadata": {},
   "outputs": [
    {
     "data": {
      "text/plain": [
       "0.0491"
      ]
     },
     "execution_count": 21,
     "metadata": {},
     "output_type": "execute_result"
    }
   ],
   "source": [
    "X_cutoff(55)"
   ]
  },
  {
   "cell_type": "markdown",
   "metadata": {},
   "source": [
    "For this sample, test statistic values of 55 or greater will cause us to reject $H_o$."
   ]
  },
  {
   "cell_type": "code",
   "execution_count": 22,
   "metadata": {},
   "outputs": [
    {
     "name": "stdout",
     "output_type": "stream",
     "text": [
      "The power of this test is: 0.9818\n"
     ]
    }
   ],
   "source": [
    "true_pop_sim = [] # initialize\n",
    "for i in np.arange(10**4):\n",
    "    ball_sample = stats.multinomial.rvs(500,[0.3,0.3,0.2,0.2],size=1) # multinomial distribution\n",
    "    true_pop_sim = np.append(true_pop_sim, sum(abs(sum(ball_sample)-125)))\n",
    "    \n",
    "power = np.mean(true_pop_sim >= 55)\n",
    "print('The power of this test is:',power)"
   ]
  },
  {
   "cell_type": "markdown",
   "metadata": {},
   "source": [
    "This power is very high compared to the earlier test. We interpret $\\beta = 2\\%$ to denote a low probability of Type II error, meaning that our test has improved given the same golf ball proportions. Therefore, for a higher sample size, power increases, beta decreases, and the overall quality of the test is better for the accuracy of final conclusions."
   ]
  }
 ],
 "metadata": {
  "kernelspec": {
   "display_name": "Python 3",
   "language": "python",
   "name": "python3"
  },
  "language_info": {
   "codemirror_mode": {
    "name": "ipython",
    "version": 3
   },
   "file_extension": ".py",
   "mimetype": "text/x-python",
   "name": "python",
   "nbconvert_exporter": "python",
   "pygments_lexer": "ipython3",
   "version": "3.6.5"
  }
 },
 "nbformat": 4,
 "nbformat_minor": 2
}
